{
  "nbformat": 4,
  "nbformat_minor": 0,
  "metadata": {
    "colab": {
      "provenance": [],
      "include_colab_link": true
    },
    "kernelspec": {
      "name": "python3",
      "display_name": "Python 3"
    },
    "language_info": {
      "name": "python"
    },
    "accelerator": "GPU",
    "gpuClass": "standard"
  },
  "cells": [
    {
      "cell_type": "markdown",
      "metadata": {
        "id": "view-in-github",
        "colab_type": "text"
      },
      "source": [
        "<a href=\"https://colab.research.google.com/github/nathalierocelle/CapstoneProject_GamAuth/blob/main/GamAuth_yolov5_model.ipynb\" target=\"_parent\"><img src=\"https://colab.research.google.com/assets/colab-badge.svg\" alt=\"Open In Colab\"/></a>"
      ]
    },
    {
      "cell_type": "markdown",
      "source": [
        "# YOLOv5 Image Classification"
      ],
      "metadata": {
        "id": "5GYQX3of4QiW"
      }
    },
    {
      "cell_type": "markdown",
      "source": [
        "## Setup and Import Useful Libraries"
      ],
      "metadata": {
        "id": "-PJ8vlYXbWtN"
      }
    },
    {
      "cell_type": "code",
      "execution_count": 2,
      "metadata": {
        "id": "pIM7fOwm8A7l",
        "colab": {
          "base_uri": "https://localhost:8080/"
        },
        "outputId": "f70f2296-7328-4560-b414-0b342ab60794"
      },
      "outputs": [
        {
          "output_type": "stream",
          "name": "stdout",
          "text": [
            "fatal: destination path 'yolov5' already exists and is not an empty directory.\n",
            "/content/yolov5\n"
          ]
        }
      ],
      "source": [
        "!git clone https://github.com/ultralytics/yolov5 \n",
        "%cd yolov5\n",
        "%pip install -qr requirements.txt"
      ]
    },
    {
      "cell_type": "code",
      "source": [
        "!pip install roboflow"
      ],
      "metadata": {
        "colab": {
          "base_uri": "https://localhost:8080/"
        },
        "id": "i29i35cUPqKr",
        "outputId": "896c012a-7496-4cfb-aebb-188e0601f296"
      },
      "execution_count": 3,
      "outputs": [
        {
          "output_type": "stream",
          "name": "stdout",
          "text": [
            "Looking in indexes: https://pypi.org/simple, https://us-python.pkg.dev/colab-wheels/public/simple/\n",
            "Requirement already satisfied: roboflow in /usr/local/lib/python3.8/dist-packages (0.2.21)\n",
            "Requirement already satisfied: requests in /usr/local/lib/python3.8/dist-packages (from roboflow) (2.28.1)\n",
            "Requirement already satisfied: kiwisolver>=1.3.1 in /usr/local/lib/python3.8/dist-packages (from roboflow) (1.4.4)\n",
            "Requirement already satisfied: requests-toolbelt in /usr/local/lib/python3.8/dist-packages (from roboflow) (0.10.1)\n",
            "Requirement already satisfied: urllib3==1.26.6 in /usr/local/lib/python3.8/dist-packages (from roboflow) (1.26.6)\n",
            "Requirement already satisfied: python-dotenv in /usr/local/lib/python3.8/dist-packages (from roboflow) (0.21.0)\n",
            "Requirement already satisfied: chardet==4.0.0 in /usr/local/lib/python3.8/dist-packages (from roboflow) (4.0.0)\n",
            "Requirement already satisfied: opencv-python-headless>=4.5.1.48 in /usr/local/lib/python3.8/dist-packages (from roboflow) (4.6.0.66)\n",
            "Requirement already satisfied: certifi==2021.5.30 in /usr/local/lib/python3.8/dist-packages (from roboflow) (2021.5.30)\n",
            "Requirement already satisfied: tqdm>=4.41.0 in /usr/local/lib/python3.8/dist-packages (from roboflow) (4.64.1)\n",
            "Requirement already satisfied: python-dateutil in /usr/local/lib/python3.8/dist-packages (from roboflow) (2.8.2)\n",
            "Requirement already satisfied: cycler==0.10.0 in /usr/local/lib/python3.8/dist-packages (from roboflow) (0.10.0)\n",
            "Requirement already satisfied: numpy>=1.18.5 in /usr/local/lib/python3.8/dist-packages (from roboflow) (1.21.6)\n",
            "Requirement already satisfied: pyparsing==2.4.7 in /usr/local/lib/python3.8/dist-packages (from roboflow) (2.4.7)\n",
            "Requirement already satisfied: idna==2.10 in /usr/local/lib/python3.8/dist-packages (from roboflow) (2.10)\n",
            "Requirement already satisfied: glob2 in /usr/local/lib/python3.8/dist-packages (from roboflow) (0.7)\n",
            "Requirement already satisfied: Pillow>=7.1.2 in /usr/local/lib/python3.8/dist-packages (from roboflow) (7.1.2)\n",
            "Requirement already satisfied: wget in /usr/local/lib/python3.8/dist-packages (from roboflow) (3.2)\n",
            "Requirement already satisfied: PyYAML>=5.3.1 in /usr/local/lib/python3.8/dist-packages (from roboflow) (6.0)\n",
            "Requirement already satisfied: six in /usr/local/lib/python3.8/dist-packages (from roboflow) (1.15.0)\n",
            "Requirement already satisfied: matplotlib in /usr/local/lib/python3.8/dist-packages (from roboflow) (3.2.2)\n",
            "Requirement already satisfied: charset-normalizer<3,>=2 in /usr/local/lib/python3.8/dist-packages (from requests->roboflow) (2.1.1)\n"
          ]
        }
      ]
    },
    {
      "cell_type": "code",
      "source": [
        "import os\n",
        "import torch\n",
        "import utils\n",
        "from roboflow import Roboflow\n",
        "display = utils.notebook_init()"
      ],
      "metadata": {
        "colab": {
          "base_uri": "https://localhost:8080/"
        },
        "id": "-kUNBP31Pjdk",
        "outputId": "b7f5c770-c48f-45d1-cd18-0c1cff2893e9"
      },
      "execution_count": 4,
      "outputs": [
        {
          "output_type": "stream",
          "name": "stderr",
          "text": [
            "YOLOv5 🚀 v7.0-53-g65071da Python-3.8.16 torch-1.13.0+cu116 CUDA:0 (Tesla T4, 15110MiB)\n"
          ]
        },
        {
          "output_type": "stream",
          "name": "stdout",
          "text": [
            "Setup complete ✅ (2 CPUs, 12.7 GB RAM, 23.0/78.2 GB disk)\n"
          ]
        }
      ]
    },
    {
      "cell_type": "markdown",
      "source": [
        "## Load the dataset\n"
      ],
      "metadata": {
        "id": "9bXHHYeVDCXg"
      }
    },
    {
      "cell_type": "code",
      "source": [
        "os.makedirs(\"../datasets/\", exist_ok=True)\n",
        "%cd ../datasets/"
      ],
      "metadata": {
        "id": "6IIgJbP7G6Th",
        "colab": {
          "base_uri": "https://localhost:8080/"
        },
        "outputId": "41563a92-ff74-4448-fba9-94e5a0177bce"
      },
      "execution_count": 5,
      "outputs": [
        {
          "output_type": "stream",
          "name": "stdout",
          "text": [
            "/content/datasets\n"
          ]
        }
      ]
    },
    {
      "cell_type": "code",
      "source": [
        "rf = Roboflow(api_key=\"1f25N6kvuPDRURqSNfHf\")\n",
        "project = rf.workspace(\"deep-learning-kpf72\").project(\"medicine-authenticity-classification-foqrv\")\n",
        "dataset = project.version(1).download(\"folder\")"
      ],
      "metadata": {
        "id": "He6JwHIlG-W_",
        "colab": {
          "base_uri": "https://localhost:8080/"
        },
        "outputId": "3c7aa971-c69e-41fd-b7f8-5b92e588e383"
      },
      "execution_count": 6,
      "outputs": [
        {
          "output_type": "stream",
          "name": "stdout",
          "text": [
            "loading Roboflow workspace...\n",
            "loading Roboflow project...\n",
            "Downloading Dataset Version Zip in medicine-authenticity-classification-1 to folder: 100% [9638593 / 9638593] bytes\n"
          ]
        },
        {
          "output_type": "stream",
          "name": "stderr",
          "text": [
            "Extracting Dataset Version Zip to medicine-authenticity-classification-1 in folder:: 100%|██████████| 637/637 [00:00<00:00, 794.09it/s]\n"
          ]
        }
      ]
    },
    {
      "cell_type": "code",
      "source": [
        "dataset_name = dataset.location.split(os.sep)[-1]\n",
        "os.environ[\"DATASET_NAME\"] = dataset_name"
      ],
      "metadata": {
        "id": "wLQbThFICpn4"
      },
      "execution_count": 7,
      "outputs": []
    },
    {
      "cell_type": "code",
      "source": [
        "dataset_name"
      ],
      "metadata": {
        "colab": {
          "base_uri": "https://localhost:8080/",
          "height": 36
        },
        "id": "rhP2inxHP4lS",
        "outputId": "e2ca1eeb-67c1-4c52-e237-a89af7defdd5"
      },
      "execution_count": 8,
      "outputs": [
        {
          "output_type": "execute_result",
          "data": {
            "text/plain": [
              "'medicine-authenticity-classification-1'"
            ],
            "application/vnd.google.colaboratory.intrinsic+json": {
              "type": "string"
            }
          },
          "metadata": {},
          "execution_count": 8
        }
      ]
    },
    {
      "cell_type": "markdown",
      "source": [
        "## Model Training"
      ],
      "metadata": {
        "id": "-5z7Yv42FGrK"
      }
    },
    {
      "cell_type": "code",
      "source": [
        "%cd ../yolov5\n",
        "!python classify/train.py --model yolov5s-cls.pt --data $DATASET_NAME --epochs 100 --img 128 --pretrained weights/yolov5s-cls.pt"
      ],
      "metadata": {
        "id": "MXWTTN2BEaqe",
        "colab": {
          "base_uri": "https://localhost:8080/"
        },
        "outputId": "0cbdee33-a201-4d89-847d-1e72e05834d5"
      },
      "execution_count": 9,
      "outputs": [
        {
          "output_type": "stream",
          "name": "stdout",
          "text": [
            "/content/yolov5\n",
            "\u001b[34m\u001b[1mclassify/train: \u001b[0mmodel=yolov5s-cls.pt, data=medicine-authenticity-classification-1, epochs=100, batch_size=64, imgsz=128, nosave=False, cache=None, device=, workers=8, project=runs/train-cls, name=exp, exist_ok=False, pretrained=weights/yolov5s-cls.pt, optimizer=Adam, lr0=0.001, decay=5e-05, label_smoothing=0.1, cutoff=None, dropout=None, verbose=False, seed=0, local_rank=-1\n",
            "\u001b[34m\u001b[1mgithub: \u001b[0mup to date with https://github.com/ultralytics/yolov5 ✅\n",
            "YOLOv5 🚀 v7.0-53-g65071da Python-3.8.16 torch-1.13.0+cu116 CUDA:0 (Tesla T4, 15110MiB)\n",
            "\n",
            "\u001b[34m\u001b[1mTensorBoard: \u001b[0mStart with 'tensorboard --logdir runs/train-cls', view at http://localhost:6006/\n",
            "\u001b[34m\u001b[1malbumentations: \u001b[0mRandomResizedCrop(p=1.0, height=128, width=128, scale=(0.08, 1.0), ratio=(0.75, 1.3333333333333333), interpolation=1), HorizontalFlip(p=0.5), ColorJitter(p=0.5, brightness=[0.6, 1.4], contrast=[0.6, 1.4], saturation=[0.6, 1.4], hue=[0, 0]), Normalize(p=1.0, mean=(0.485, 0.456, 0.406), std=(0.229, 0.224, 0.225), max_pixel_value=255.0), ToTensorV2(always_apply=True, p=1.0, transpose_mask=False)\n",
            "Model summary: 149 layers, 4180166 parameters, 4180166 gradients, 10.5 GFLOPs\n",
            "\u001b[34m\u001b[1moptimizer:\u001b[0m Adam(lr=0.001) with parameter groups 32 weight(decay=0.0), 33 weight(decay=5e-05), 33 bias\n",
            "Image sizes 128 train, 128 test\n",
            "Using 1 dataloader workers\n",
            "Logging results to \u001b[1mruns/train-cls/exp2\u001b[0m\n",
            "Starting yolov5s-cls.pt training on medicine-authenticity-classification-1 dataset with 6 classes for 100 epochs...\n",
            "\n",
            "     Epoch   GPU_mem  train_loss   test_loss    top1_acc    top5_acc\n",
            "     1/100     0.44G        1.82        1.79       0.154       0.885: 100% 9/9 [00:01<00:00,  6.99it/s]\n",
            "     2/100     0.44G        1.39        1.79       0.231       0.885: 100% 9/9 [00:01<00:00,  7.66it/s]\n",
            "     3/100     0.44G        1.33        1.82       0.231       0.808: 100% 9/9 [00:01<00:00,  7.45it/s]\n",
            "     4/100     0.44G        1.28        1.83       0.192       0.885: 100% 9/9 [00:01<00:00,  7.26it/s]\n",
            "     5/100     0.44G        1.26        1.93       0.192       0.808: 100% 9/9 [00:01<00:00,  7.22it/s]\n",
            "     6/100     0.44G        1.19        1.77       0.346       0.923: 100% 9/9 [00:01<00:00,  6.57it/s]\n",
            "     7/100     0.44G        1.18        1.49       0.462       0.962: 100% 9/9 [00:01<00:00,  7.59it/s]\n",
            "     8/100     0.44G         1.1        1.22       0.615           1: 100% 9/9 [00:01<00:00,  7.65it/s]\n",
            "     9/100     0.44G        1.15        1.27       0.423           1: 100% 9/9 [00:01<00:00,  7.17it/s]\n",
            "    10/100     0.44G        1.14        1.09       0.538           1: 100% 9/9 [00:01<00:00,  7.25it/s]\n",
            "    11/100     0.44G        1.07        1.13       0.654           1: 100% 9/9 [00:01<00:00,  6.89it/s]\n",
            "    12/100     0.44G        1.06        1.13         0.5           1: 100% 9/9 [00:01<00:00,  6.86it/s]\n",
            "    13/100     0.44G        1.11       0.995       0.731           1: 100% 9/9 [00:01<00:00,  7.29it/s]\n",
            "    14/100     0.44G        1.07        1.06       0.692           1: 100% 9/9 [00:01<00:00,  7.22it/s]\n",
            "    15/100     0.44G        1.05           1       0.769           1: 100% 9/9 [00:01<00:00,  6.77it/s]\n",
            "    16/100     0.44G        1.03       0.916       0.846           1: 100% 9/9 [00:01<00:00,  7.50it/s]\n",
            "    17/100     0.44G           1       0.811       0.846           1: 100% 9/9 [00:01<00:00,  7.54it/s]\n",
            "    18/100     0.44G       0.981        1.04       0.577           1: 100% 9/9 [00:01<00:00,  7.06it/s]\n",
            "    19/100     0.44G        1.01        1.04       0.538           1: 100% 9/9 [00:01<00:00,  7.32it/s]\n",
            "    20/100     0.44G        1.01        1.07       0.808           1: 100% 9/9 [00:01<00:00,  7.37it/s]\n",
            "    21/100     0.44G        1.11       0.883       0.654           1: 100% 9/9 [00:01<00:00,  7.06it/s]\n",
            "    22/100     0.44G        1.04       0.863       0.846           1: 100% 9/9 [00:01<00:00,  6.93it/s]\n",
            "    23/100     0.44G           1        0.89       0.769           1: 100% 9/9 [00:01<00:00,  7.55it/s]\n",
            "    24/100     0.44G        1.01       0.807       0.731           1: 100% 9/9 [00:01<00:00,  7.44it/s]\n",
            "    25/100     0.44G       0.998       0.881       0.731           1: 100% 9/9 [00:01<00:00,  7.00it/s]\n",
            "    26/100     0.44G        1.04        0.76       0.808           1: 100% 9/9 [00:01<00:00,  7.07it/s]\n",
            "    27/100     0.44G        1.01       0.802       0.769           1: 100% 9/9 [00:01<00:00,  7.21it/s]\n",
            "    28/100     0.44G       0.918       0.842       0.769           1: 100% 9/9 [00:01<00:00,  7.06it/s]\n",
            "    29/100     0.44G       0.897       0.952       0.731           1: 100% 9/9 [00:01<00:00,  7.24it/s]\n",
            "    30/100     0.44G       0.945       0.913       0.846           1: 100% 9/9 [00:01<00:00,  6.38it/s]\n",
            "    31/100     0.44G       0.914       0.891       0.692           1: 100% 9/9 [00:01<00:00,  7.53it/s]\n",
            "    32/100     0.44G       0.899       0.815       0.923           1: 100% 9/9 [00:01<00:00,  7.35it/s]\n",
            "    33/100     0.44G       0.885       0.801       0.808           1: 100% 9/9 [00:01<00:00,  7.25it/s]\n",
            "    34/100     0.44G       0.923       0.804       0.769           1: 100% 9/9 [00:01<00:00,  5.81it/s]\n",
            "    35/100     0.44G       0.933       0.955       0.808           1: 100% 9/9 [00:01<00:00,  6.83it/s]\n",
            "    36/100     0.44G       0.914       0.713       0.885           1: 100% 9/9 [00:01<00:00,  7.46it/s]\n",
            "    37/100     0.44G       0.807       0.754       0.808           1: 100% 9/9 [00:01<00:00,  7.22it/s]\n",
            "    38/100     0.44G       0.807       0.917       0.731           1: 100% 9/9 [00:01<00:00,  7.04it/s]\n",
            "    39/100     0.44G       0.828       0.744       0.808           1: 100% 9/9 [00:01<00:00,  7.41it/s]\n",
            "    40/100     0.44G       0.826       0.824       0.808           1: 100% 9/9 [00:01<00:00,  5.72it/s]\n",
            "    41/100     0.44G       0.862        0.86       0.885           1: 100% 9/9 [00:01<00:00,  7.29it/s]\n",
            "    42/100     0.44G       0.823       0.901       0.731           1: 100% 9/9 [00:01<00:00,  6.83it/s]\n",
            "    43/100     0.44G       0.795       0.731       0.846           1: 100% 9/9 [00:01<00:00,  7.15it/s]\n",
            "    44/100     0.44G       0.848       0.739       0.846           1: 100% 9/9 [00:01<00:00,  6.87it/s]\n",
            "    45/100     0.44G       0.756       0.726       0.808           1: 100% 9/9 [00:01<00:00,  6.74it/s]\n",
            "    46/100     0.44G        0.81       0.712       0.808           1: 100% 9/9 [00:01<00:00,  7.29it/s]\n",
            "    47/100     0.44G       0.842        0.81       0.846           1: 100% 9/9 [00:01<00:00,  7.39it/s]\n",
            "    48/100     0.44G       0.797         0.8       0.808           1: 100% 9/9 [00:01<00:00,  6.80it/s]\n",
            "    49/100     0.44G       0.816       0.769       0.808           1: 100% 9/9 [00:01<00:00,  7.39it/s]\n",
            "    50/100     0.44G       0.766       0.702       0.885           1: 100% 9/9 [00:01<00:00,  6.91it/s]\n",
            "    51/100     0.44G       0.753       0.686       0.885           1: 100% 9/9 [00:01<00:00,  6.35it/s]\n",
            "    52/100     0.44G        0.78       0.813       0.846           1: 100% 9/9 [00:01<00:00,  6.88it/s]\n",
            "    53/100     0.44G        0.76       0.737       0.808           1: 100% 9/9 [00:01<00:00,  7.10it/s]\n",
            "    54/100     0.44G       0.766       0.761       0.846           1: 100% 9/9 [00:01<00:00,  7.21it/s]\n",
            "    55/100     0.44G       0.718       0.726       0.846           1: 100% 9/9 [00:01<00:00,  7.26it/s]\n",
            "    56/100     0.44G       0.763       0.904       0.846           1: 100% 9/9 [00:01<00:00,  7.34it/s]\n",
            "    57/100     0.44G       0.757       0.707       0.885           1: 100% 9/9 [00:01<00:00,  7.32it/s]\n",
            "    58/100     0.44G       0.774       0.694       0.846           1: 100% 9/9 [00:01<00:00,  7.35it/s]\n",
            "    59/100     0.44G       0.765       0.721       0.808           1: 100% 9/9 [00:01<00:00,  7.13it/s]\n",
            "    60/100     0.44G       0.736       0.695       0.846           1: 100% 9/9 [00:01<00:00,  7.34it/s]\n",
            "    61/100     0.44G       0.743       0.746       0.808           1: 100% 9/9 [00:01<00:00,  7.08it/s]\n",
            "    62/100     0.44G       0.757       0.794       0.808           1: 100% 9/9 [00:01<00:00,  7.29it/s]\n",
            "    63/100     0.44G       0.724       0.721       0.808           1: 100% 9/9 [00:01<00:00,  7.25it/s]\n",
            "    64/100     0.44G       0.714        0.79       0.731           1: 100% 9/9 [00:01<00:00,  6.91it/s]\n",
            "    65/100     0.44G        0.71       0.809       0.731           1: 100% 9/9 [00:01<00:00,  7.00it/s]\n",
            "    66/100     0.44G       0.717       0.742       0.846           1: 100% 9/9 [00:01<00:00,  7.05it/s]\n",
            "    67/100     0.44G       0.654       0.757       0.769           1: 100% 9/9 [00:01<00:00,  7.14it/s]\n",
            "    68/100     0.44G       0.709       0.704       0.846           1: 100% 9/9 [00:01<00:00,  6.91it/s]\n",
            "    69/100     0.44G       0.677        0.82       0.808           1: 100% 9/9 [00:01<00:00,  7.29it/s]\n",
            "    70/100     0.44G       0.672       0.669       0.846           1: 100% 9/9 [00:01<00:00,  7.27it/s]\n",
            "    71/100     0.44G       0.703       0.766       0.808           1: 100% 9/9 [00:01<00:00,  7.33it/s]\n",
            "    72/100     0.44G       0.723       0.784       0.808           1: 100% 9/9 [00:01<00:00,  7.20it/s]\n",
            "    73/100     0.44G       0.729       0.698       0.885           1: 100% 9/9 [00:01<00:00,  6.45it/s]\n",
            "    74/100     0.44G        0.68       0.678       0.846           1: 100% 9/9 [00:01<00:00,  7.48it/s]\n",
            "    75/100     0.44G       0.729       0.644       0.846           1: 100% 9/9 [00:01<00:00,  7.05it/s]\n",
            "    76/100     0.44G        0.68       0.722       0.808           1: 100% 9/9 [00:01<00:00,  6.71it/s]\n",
            "    77/100     0.44G       0.649       0.715       0.846           1: 100% 9/9 [00:01<00:00,  7.30it/s]\n",
            "    78/100     0.44G       0.677        0.82       0.846           1: 100% 9/9 [00:01<00:00,  7.39it/s]\n",
            "    79/100     0.44G       0.685       0.684       0.885           1: 100% 9/9 [00:01<00:00,  6.89it/s]\n",
            "    80/100     0.44G       0.644       0.689       0.846           1: 100% 9/9 [00:01<00:00,  7.13it/s]\n",
            "    81/100     0.44G       0.619        0.75       0.808           1: 100% 9/9 [00:01<00:00,  6.95it/s]\n",
            "    82/100     0.44G       0.647       0.692       0.885           1: 100% 9/9 [00:01<00:00,  7.19it/s]\n",
            "    83/100     0.44G       0.631        0.76       0.923           1: 100% 9/9 [00:01<00:00,  7.50it/s]\n",
            "    84/100     0.44G       0.621        0.78       0.846           1: 100% 9/9 [00:01<00:00,  7.55it/s]\n",
            "    85/100     0.44G       0.685       0.726       0.885           1: 100% 9/9 [00:01<00:00,  6.87it/s]\n",
            "    86/100     0.44G        0.63       0.718       0.846           1: 100% 9/9 [00:01<00:00,  6.95it/s]\n",
            "    87/100     0.44G       0.608       0.711       0.846           1: 100% 9/9 [00:01<00:00,  6.70it/s]\n",
            "    88/100     0.44G       0.627       0.722       0.923           1: 100% 9/9 [00:01<00:00,  6.79it/s]\n",
            "    89/100     0.44G       0.648       0.735       0.885           1: 100% 9/9 [00:02<00:00,  4.22it/s]\n",
            "    90/100     0.44G       0.657       0.763       0.885           1: 100% 9/9 [00:02<00:00,  3.66it/s]\n",
            "    91/100     0.44G       0.609       0.744       0.885           1: 100% 9/9 [00:01<00:00,  5.84it/s]\n",
            "    92/100     0.44G       0.637       0.762       0.885           1: 100% 9/9 [00:01<00:00,  6.62it/s]\n",
            "    93/100     0.44G       0.633       0.751       0.885           1: 100% 9/9 [00:01<00:00,  6.62it/s]\n",
            "    94/100     0.44G       0.616        0.76       0.885           1: 100% 9/9 [00:01<00:00,  6.76it/s]\n",
            "    95/100     0.44G       0.632       0.757       0.885           1: 100% 9/9 [00:01<00:00,  7.07it/s]\n",
            "    96/100     0.44G       0.617       0.732       0.923           1: 100% 9/9 [00:01<00:00,  6.91it/s]\n",
            "    97/100     0.44G       0.625       0.752       0.923           1: 100% 9/9 [00:01<00:00,  7.36it/s]\n",
            "    98/100     0.44G       0.631       0.773       0.885           1: 100% 9/9 [00:01<00:00,  7.53it/s]\n",
            "    99/100     0.44G        0.64       0.769       0.923           1: 100% 9/9 [00:01<00:00,  6.70it/s]\n",
            "   100/100     0.44G       0.666       0.761       0.885           1: 100% 9/9 [00:01<00:00,  7.40it/s]\n",
            "\n",
            "Training complete (0.040 hours)\n",
            "Results saved to \u001b[1mruns/train-cls/exp2\u001b[0m\n",
            "Predict:         python classify/predict.py --weights runs/train-cls/exp2/weights/best.pt --source im.jpg\n",
            "Validate:        python classify/val.py --weights runs/train-cls/exp2/weights/best.pt --data /content/datasets/medicine-authenticity-classification-1\n",
            "Export:          python export.py --weights runs/train-cls/exp2/weights/best.pt --include onnx\n",
            "PyTorch Hub:     model = torch.hub.load('ultralytics/yolov5', 'custom', 'runs/train-cls/exp2/weights/best.pt')\n",
            "Visualize:       https://netron.app\n",
            "\n"
          ]
        }
      ]
    },
    {
      "cell_type": "markdown",
      "source": [
        "## Model Validation"
      ],
      "metadata": {
        "id": "HHUFGeLbGd98"
      }
    },
    {
      "cell_type": "code",
      "source": [
        "!python classify/val.py --weights runs/train-cls/exp/weights/best.pt --data ../datasets/$DATASET_NAME"
      ],
      "metadata": {
        "id": "DIV7ydyKGZFL",
        "colab": {
          "base_uri": "https://localhost:8080/"
        },
        "outputId": "f98eacc4-21bd-4654-f3cb-961f7f3274ea"
      },
      "execution_count": 10,
      "outputs": [
        {
          "output_type": "stream",
          "name": "stdout",
          "text": [
            "\u001b[34m\u001b[1mclassify/val: \u001b[0mdata=../datasets/medicine-authenticity-classification-1, weights=['runs/train-cls/exp/weights/best.pt'], batch_size=128, imgsz=224, device=, workers=8, verbose=True, project=runs/val-cls, name=exp, exist_ok=False, half=False, dnn=False\n",
            "YOLOv5 🚀 v7.0-53-g65071da Python-3.8.16 torch-1.13.0+cu116 CUDA:0 (Tesla T4, 15110MiB)\n",
            "\n",
            "Fusing layers... \n",
            "Model summary: 117 layers, 4174374 parameters, 0 gradients, 10.4 GFLOPs\n",
            "testing: 100% 1/1 [00:00<00:00,  3.30it/s]\n",
            "                   Class      Images    top1_acc    top5_acc\n",
            "                     all          26       0.846           1\n",
            "        bioflu_authentic           5           1           1\n",
            "      bioflu_counterfeit           3       0.667           1\n",
            "      biogesic_authentic           6       0.833           1\n",
            "    biogesic_counterfeit           4        0.75           1\n",
            "        neozep_authentic           5           1           1\n",
            "      neozep_counterfeit           3       0.667           1\n",
            "Speed: 0.1ms pre-process, 4.3ms inference, 0.0ms post-process per image at shape (1, 3, 224, 224)\n",
            "Results saved to \u001b[1mruns/val-cls/exp2\u001b[0m\n"
          ]
        }
      ]
    },
    {
      "cell_type": "markdown",
      "source": [
        " ## Model Testing"
      ],
      "metadata": {
        "id": "uH5tJNpEsi6g"
      }
    },
    {
      "cell_type": "code",
      "source": [
        "if os.path.exists(os.path.join(dataset.location, \"test\")):\n",
        "  split_path = os.path.join(dataset.location, \"test\")\n",
        "else:\n",
        "  os.path.join(dataset.location, \"valid\")\n",
        "example_class = os.listdir(split_path)[0]\n",
        "example_image_name = os.listdir(os.path.join(split_path, example_class))[0]\n",
        "example_image_path = os.path.join(split_path, example_class, example_image_name)\n",
        "os.environ[\"TEST_IMAGE_PATH\"] = example_image_path\n",
        "\n",
        "print(f\"Inferring on an example of the class '{example_class}'\")\n",
        "\n",
        "#Infer\n",
        "!python classify/predict.py --weights runs/train-cls/exp/weights/best.pt --source $TEST_IMAGE_PATH"
      ],
      "metadata": {
        "id": "81lK1hU_sk54",
        "colab": {
          "base_uri": "https://localhost:8080/"
        },
        "outputId": "3230154b-8c1e-4ea0-b438-2f13257e029a"
      },
      "execution_count": 11,
      "outputs": [
        {
          "output_type": "stream",
          "name": "stdout",
          "text": [
            "Inferring on an example of the class 'neozep_counterfeit'\n",
            "\u001b[34m\u001b[1mclassify/predict: \u001b[0mweights=['runs/train-cls/exp/weights/best.pt'], source=/content/datasets/medicine-authenticity-classification-1/test/neozep_counterfeit/image_94_png.rf.b6c9925fa2cc659ad79dc8df30342573.jpg, data=data/coco128.yaml, imgsz=[224, 224], device=, view_img=False, save_txt=False, nosave=False, augment=False, visualize=False, update=False, project=runs/predict-cls, name=exp, exist_ok=False, half=False, dnn=False, vid_stride=1\n",
            "YOLOv5 🚀 v7.0-53-g65071da Python-3.8.16 torch-1.13.0+cu116 CUDA:0 (Tesla T4, 15110MiB)\n",
            "\n",
            "Fusing layers... \n",
            "Model summary: 117 layers, 4174374 parameters, 0 gradients, 10.4 GFLOPs\n",
            "image 1/1 /content/datasets/medicine-authenticity-classification-1/test/neozep_counterfeit/image_94_png.rf.b6c9925fa2cc659ad79dc8df30342573.jpg: 224x224 neozep_counterfeit 0.90, neozep_authentic 0.05, biogesic_counterfeit 0.03, bioflu_authentic 0.01, bioflu_counterfeit 0.00, 3.9ms\n",
            "Speed: 0.3ms pre-process, 3.9ms inference, 0.1ms NMS per image at shape (1, 3, 224, 224)\n",
            "Results saved to \u001b[1mruns/predict-cls/exp12\u001b[0m\n"
          ]
        }
      ]
    },
    {
      "cell_type": "code",
      "source": [
        "os.environ[\"TEST_CLASS_PATH\"] = test_class_path = os.path.join(*os.environ[\"TEST_IMAGE_PATH\"].split(os.sep)[:-1])\n",
        "print(f\"Infering on all images from the directory {os.environ['TEST_CLASS_PATH']}\")\n",
        "\n",
        "!python classify/predict.py --weights runs/train-cls/exp/weights/best.pt --source '/content/datasets/medicine-authenticity-classification-1/test/*/*.jpg'"
      ],
      "metadata": {
        "id": "lwSoHcHcvjeD",
        "colab": {
          "base_uri": "https://localhost:8080/"
        },
        "outputId": "fc8478ee-8be0-4fe2-e26e-5cf188c6648b"
      },
      "execution_count": 13,
      "outputs": [
        {
          "output_type": "stream",
          "name": "stdout",
          "text": [
            "Infering on all images from the directory content/datasets/medicine-authenticity-classification-1/test/neozep_counterfeit\n",
            "\u001b[34m\u001b[1mclassify/predict: \u001b[0mweights=['runs/train-cls/exp/weights/best.pt'], source=/content/datasets/medicine-authenticity-classification-1/test/*/*.jpg, data=data/coco128.yaml, imgsz=[224, 224], device=, view_img=False, save_txt=False, nosave=False, augment=False, visualize=False, update=False, project=runs/predict-cls, name=exp, exist_ok=False, half=False, dnn=False, vid_stride=1\n",
            "YOLOv5 🚀 v7.0-53-g65071da Python-3.8.16 torch-1.13.0+cu116 CUDA:0 (Tesla T4, 15110MiB)\n",
            "\n",
            "Fusing layers... \n",
            "Model summary: 117 layers, 4174374 parameters, 0 gradients, 10.4 GFLOPs\n",
            "image 1/26 /content/datasets/medicine-authenticity-classification-1/test/bioflu_authentic/image_135_png.rf.47b7e076028461ac8062dac37bd2a037.jpg: 224x224 bioflu_authentic 0.99, biogesic_authentic 0.00, neozep_authentic 0.00, neozep_counterfeit 0.00, bioflu_counterfeit 0.00, 4.4ms\n",
            "image 2/26 /content/datasets/medicine-authenticity-classification-1/test/bioflu_authentic/image_136_png.rf.ce5770f313e90ed3b3eba8141d069561.jpg: 224x224 bioflu_authentic 0.99, biogesic_authentic 0.00, neozep_authentic 0.00, neozep_counterfeit 0.00, bioflu_counterfeit 0.00, 4.3ms\n",
            "image 3/26 /content/datasets/medicine-authenticity-classification-1/test/bioflu_authentic/image_145_png.rf.a7e97c3e406bcb063a4dc9b7b00b87e9.jpg: 224x224 bioflu_authentic 0.87, neozep_authentic 0.10, biogesic_authentic 0.02, biogesic_counterfeit 0.01, bioflu_counterfeit 0.00, 3.9ms\n",
            "image 4/26 /content/datasets/medicine-authenticity-classification-1/test/bioflu_authentic/image_153_png.rf.28a7ca17451fd03eed699b50f66011de.jpg: 224x224 bioflu_authentic 0.93, neozep_authentic 0.06, biogesic_authentic 0.01, biogesic_counterfeit 0.00, neozep_counterfeit 0.00, 4.1ms\n",
            "image 5/26 /content/datasets/medicine-authenticity-classification-1/test/bioflu_authentic/image_155_png.rf.f3e9df597d962be6eb4d1f9bbd2ddece.jpg: 224x224 bioflu_authentic 0.91, neozep_authentic 0.08, biogesic_authentic 0.01, biogesic_counterfeit 0.00, neozep_counterfeit 0.00, 4.3ms\n",
            "image 6/26 /content/datasets/medicine-authenticity-classification-1/test/bioflu_counterfeit/image_64_png.rf.58d53ee59faad346b52cdf892810ecd0.jpg: 224x224 bioflu_counterfeit 0.84, bioflu_authentic 0.12, biogesic_counterfeit 0.02, neozep_counterfeit 0.01, neozep_authentic 0.01, 5.1ms\n",
            "image 7/26 /content/datasets/medicine-authenticity-classification-1/test/bioflu_counterfeit/image_65_png.rf.4a0a628dd6163d21fef107a418b5a8db.jpg: 224x224 bioflu_authentic 0.74, bioflu_counterfeit 0.17, biogesic_authentic 0.03, neozep_authentic 0.03, neozep_counterfeit 0.02, 6.7ms\n",
            "image 8/26 /content/datasets/medicine-authenticity-classification-1/test/bioflu_counterfeit/image_84_png.rf.fa480d976da84d4107926a545ad4befc.jpg: 224x224 bioflu_counterfeit 0.63, bioflu_authentic 0.26, neozep_counterfeit 0.05, neozep_authentic 0.03, biogesic_authentic 0.02, 5.3ms\n",
            "image 9/26 /content/datasets/medicine-authenticity-classification-1/test/biogesic_authentic/image_25_png.rf.832a1371bce7ce2d7ba127b78ba90afa.jpg: 224x224 biogesic_authentic 0.80, neozep_authentic 0.10, biogesic_counterfeit 0.05, bioflu_authentic 0.04, neozep_counterfeit 0.01, 4.3ms\n",
            "image 10/26 /content/datasets/medicine-authenticity-classification-1/test/biogesic_authentic/image_26_png.rf.f3b8ead16163df1cbf539adeef7a7fbd.jpg: 224x224 neozep_authentic 0.45, biogesic_authentic 0.34, biogesic_counterfeit 0.12, bioflu_authentic 0.07, neozep_counterfeit 0.02, 4.3ms\n",
            "image 11/26 /content/datasets/medicine-authenticity-classification-1/test/biogesic_authentic/image_2_png.rf.a93c3ab1300bb47fccd830d8486392dc.jpg: 224x224 biogesic_authentic 0.96, neozep_authentic 0.01, bioflu_counterfeit 0.01, neozep_counterfeit 0.01, bioflu_authentic 0.01, 4.2ms\n",
            "image 12/26 /content/datasets/medicine-authenticity-classification-1/test/biogesic_authentic/image_36_png.rf.f7017e84ea434f431168320171a164e7.jpg: 224x224 biogesic_authentic 0.70, neozep_authentic 0.18, bioflu_authentic 0.06, biogesic_counterfeit 0.04, neozep_counterfeit 0.02, 3.9ms\n",
            "image 13/26 /content/datasets/medicine-authenticity-classification-1/test/biogesic_authentic/image_38_png.rf.e408c3faec20bd66d955c7738b813651.jpg: 224x224 biogesic_authentic 0.97, neozep_authentic 0.01, bioflu_authentic 0.01, neozep_counterfeit 0.01, bioflu_counterfeit 0.00, 4.1ms\n",
            "image 14/26 /content/datasets/medicine-authenticity-classification-1/test/biogesic_authentic/image_47_png.rf.ba0ae53f1059a0b3d62c50b94b66d399.jpg: 224x224 biogesic_authentic 0.98, neozep_authentic 0.01, bioflu_counterfeit 0.01, neozep_counterfeit 0.01, bioflu_authentic 0.00, 3.8ms\n",
            "image 15/26 /content/datasets/medicine-authenticity-classification-1/test/biogesic_counterfeit/image_168_png.rf.51aaa96db9a6feeffb16ae5c1a3bfda8.jpg: 224x224 biogesic_counterfeit 0.65, biogesic_authentic 0.29, neozep_authentic 0.02, neozep_counterfeit 0.02, bioflu_authentic 0.02, 3.9ms\n",
            "image 16/26 /content/datasets/medicine-authenticity-classification-1/test/biogesic_counterfeit/image_172_png.rf.37c0e5985abefc39afba805127d370e7.jpg: 224x224 biogesic_counterfeit 0.46, biogesic_authentic 0.40, bioflu_authentic 0.07, neozep_counterfeit 0.03, neozep_authentic 0.02, 4.2ms\n",
            "image 17/26 /content/datasets/medicine-authenticity-classification-1/test/biogesic_counterfeit/image_189_png.rf.d8145c230b22df0e1db8be7df06cdcbc.jpg: 224x224 biogesic_authentic 0.83, neozep_authentic 0.05, neozep_counterfeit 0.05, biogesic_counterfeit 0.03, bioflu_counterfeit 0.03, 4.3ms\n",
            "image 18/26 /content/datasets/medicine-authenticity-classification-1/test/biogesic_counterfeit/image_202_png.rf.5b550c71c0a3514d30ffaee40b3638cb.jpg: 224x224 biogesic_counterfeit 0.94, biogesic_authentic 0.02, bioflu_counterfeit 0.01, neozep_authentic 0.01, bioflu_authentic 0.01, 4.3ms\n",
            "image 19/26 /content/datasets/medicine-authenticity-classification-1/test/neozep_authentic/image_223_png.rf.1719fd1e33d413b0706385de0b3bb699.jpg: 224x224 neozep_authentic 0.88, biogesic_counterfeit 0.08, biogesic_authentic 0.02, bioflu_authentic 0.02, bioflu_counterfeit 0.01, 4.3ms\n",
            "image 20/26 /content/datasets/medicine-authenticity-classification-1/test/neozep_authentic/image_243_png.rf.22131ad2de511afd2d17def80aa7cd30.jpg: 224x224 neozep_authentic 0.91, biogesic_counterfeit 0.04, bioflu_authentic 0.03, neozep_counterfeit 0.02, biogesic_authentic 0.01, 4.3ms\n",
            "image 21/26 /content/datasets/medicine-authenticity-classification-1/test/neozep_authentic/image_244_png.rf.6d7874f156dc4735cb7275da887853b5.jpg: 224x224 neozep_authentic 0.91, biogesic_counterfeit 0.05, bioflu_authentic 0.02, neozep_counterfeit 0.01, biogesic_authentic 0.01, 4.3ms\n",
            "image 22/26 /content/datasets/medicine-authenticity-classification-1/test/neozep_authentic/image_253_png.rf.964bd678efccf9ffcc39737f6dc0317a.jpg: 224x224 neozep_authentic 0.88, neozep_counterfeit 0.08, biogesic_counterfeit 0.02, bioflu_counterfeit 0.01, bioflu_authentic 0.01, 4.3ms\n",
            "image 23/26 /content/datasets/medicine-authenticity-classification-1/test/neozep_authentic/image_254_png.rf.fff24d413a509b06966342292e25167f.jpg: 224x224 neozep_authentic 0.80, neozep_counterfeit 0.17, biogesic_counterfeit 0.02, bioflu_counterfeit 0.01, bioflu_authentic 0.01, 4.2ms\n",
            "image 24/26 /content/datasets/medicine-authenticity-classification-1/test/neozep_counterfeit/image_105_png.rf.b9a05dba628ac5ca0291147fd7933dec.jpg: 224x224 neozep_counterfeit 0.60, neozep_authentic 0.21, bioflu_authentic 0.07, bioflu_counterfeit 0.06, biogesic_authentic 0.03, 4.4ms\n",
            "image 25/26 /content/datasets/medicine-authenticity-classification-1/test/neozep_counterfeit/image_88_png.rf.838b83c50795aa5fc31fd96e0476f603.jpg: 224x224 neozep_authentic 0.89, neozep_counterfeit 0.04, biogesic_counterfeit 0.03, bioflu_counterfeit 0.02, biogesic_authentic 0.01, 4.2ms\n",
            "image 26/26 /content/datasets/medicine-authenticity-classification-1/test/neozep_counterfeit/image_94_png.rf.b6c9925fa2cc659ad79dc8df30342573.jpg: 224x224 neozep_counterfeit 0.90, neozep_authentic 0.05, biogesic_counterfeit 0.03, bioflu_authentic 0.01, bioflu_counterfeit 0.00, 4.2ms\n",
            "Speed: 0.3ms pre-process, 4.4ms inference, 0.0ms NMS per image at shape (1, 3, 224, 224)\n",
            "Results saved to \u001b[1mruns/predict-cls/exp14\u001b[0m\n"
          ]
        }
      ]
    },
    {
      "cell_type": "markdown",
      "source": [
        "### Testing several input methods\n",
        "- Webcam: `python classify/predict.py --weights yolov5s-cls.pt --source 0`\n",
        "- Image `python classify/predict.py --weights yolov5s-cls.pt --source img.jpg`\n",
        "- Video: `python classify/predict.py --weights yolov5s-cls.pt --source vid.mp4`\n",
        "- Directory: `python classify/predict.py --weights yolov5s-cls.pt --source path/`\n",
        "- Glob: `python classify/predict.py --weights yolov5s-cls.pt --source 'path/*.jpg'`\n",
        "- YouTube: `python classify/predict.py --weights yolov5s-cls.pt --source 'https://youtu.be/Zgi9g1ksQHc'`\n",
        "- RTSP, RTMP, HTTP stream: `python classify/predict.py --weights yolov5s-cls.pt --source 'rtsp://example.com/media.mp4'`"
      ],
      "metadata": {
        "id": "aYlfaHDusN-j"
      }
    }
  ]
}