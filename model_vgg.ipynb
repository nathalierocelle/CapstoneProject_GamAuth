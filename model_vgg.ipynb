{
  "nbformat": 4,
  "nbformat_minor": 0,
  "metadata": {
    "colab": {
      "provenance": [],
      "mount_file_id": "1mUBuceC9qUf81SgLjt5IwhQpdn3B_cvZ",
      "authorship_tag": "ABX9TyOVTGINDwcjitqlGvKx7aDw",
      "include_colab_link": true
    },
    "kernelspec": {
      "name": "python3",
      "display_name": "Python 3"
    },
    "language_info": {
      "name": "python"
    }
  },
  "cells": [
    {
      "cell_type": "markdown",
      "metadata": {
        "id": "view-in-github",
        "colab_type": "text"
      },
      "source": [
        "<a href=\"https://colab.research.google.com/github/nathalierocelle/CapstoneProject_GamAuth/blob/main/model_vgg.ipynb\" target=\"_parent\"><img src=\"https://colab.research.google.com/assets/colab-badge.svg\" alt=\"Open In Colab\"/></a>"
      ]
    },
    {
      "cell_type": "code",
      "execution_count": 23,
      "metadata": {
        "id": "Id2PSxca3pRp"
      },
      "outputs": [],
      "source": [
        "import pandas as pd\n",
        "import numpy as np \n",
        "import matplotlib.pyplot as plt\n",
        "import seaborn\n",
        "\n",
        "import cv2\n",
        "import os\n",
        "import glob\n",
        "import pathlib\n",
        "import splitfolders"
      ]
    },
    {
      "cell_type": "code",
      "source": [
        "!pip install split-folders"
      ],
      "metadata": {
        "colab": {
          "base_uri": "https://localhost:8080/"
        },
        "id": "IPcvO_ZKAngd",
        "outputId": "c25084d3-5488-4635-a8da-5d0e9099b979"
      },
      "execution_count": 22,
      "outputs": [
        {
          "output_type": "stream",
          "name": "stdout",
          "text": [
            "Looking in indexes: https://pypi.org/simple, https://us-python.pkg.dev/colab-wheels/public/simple/\n",
            "Collecting split-folders\n",
            "  Downloading split_folders-0.5.1-py3-none-any.whl (8.4 kB)\n",
            "Installing collected packages: split-folders\n",
            "Successfully installed split-folders-0.5.1\n"
          ]
        }
      ]
    },
    {
      "cell_type": "code",
      "source": [
        "!git clone https://github.com/nathalierocelle/CapstoneProject_GamAuth.git"
      ],
      "metadata": {
        "colab": {
          "base_uri": "https://localhost:8080/"
        },
        "id": "vSm5jSPW3w3F",
        "outputId": "2c83b27f-d6c2-41c3-c84f-f29983023575"
      },
      "execution_count": 2,
      "outputs": [
        {
          "output_type": "stream",
          "name": "stdout",
          "text": [
            "Cloning into 'CapstoneProject_GamAuth'...\n",
            "remote: Enumerating objects: 448, done.\u001b[K\n",
            "remote: Total 448 (delta 0), reused 0 (delta 0), pack-reused 448\u001b[K\n",
            "Receiving objects: 100% (448/448), 2.10 GiB | 23.71 MiB/s, done.\n",
            "Resolving deltas: 100% (1/1), done.\n",
            "Checking out files: 100% (308/308), done.\n"
          ]
        }
      ]
    },
    {
      "cell_type": "code",
      "source": [
        "images_dir = '/content/CapstoneProject_GamAuth/data/images'\n",
        "print('Total count of images: ', len(glob.glob(images_dir+'/*/*/*.png')))"
      ],
      "metadata": {
        "colab": {
          "base_uri": "https://localhost:8080/"
        },
        "id": "E0riqUFM7ArE",
        "outputId": "40f0812b-18a4-41bd-ca4d-597d61ac7c76"
      },
      "execution_count": 17,
      "outputs": [
        {
          "output_type": "stream",
          "name": "stdout",
          "text": [
            "Total count of images:  256\n"
          ]
        }
      ]
    },
    {
      "cell_type": "code",
      "source": [
        "os.listdir(pathlib.Path(images_dir)) "
      ],
      "metadata": {
        "colab": {
          "base_uri": "https://localhost:8080/"
        },
        "id": "uy7wbJMl-kzZ",
        "outputId": "28354ac8-11bd-49d3-e106-4f7017f09eb8"
      },
      "execution_count": 18,
      "outputs": [
        {
          "output_type": "execute_result",
          "data": {
            "text/plain": [
              "['neozep', 'biogesic', 'bioflu', '.ipynb_checkpoints']"
            ]
          },
          "metadata": {},
          "execution_count": 18
        }
      ]
    },
    {
      "cell_type": "code",
      "source": [
        "bioflu_images = glob.glob(images_dir + '/bioflu/*/*.png')\n",
        "biogesic_images = glob.glob(images_dir + '/biogesic/*/*.png')\n",
        "neozep_images = glob.glob(images_dir + '/neozep/*/*.png')\n",
        "\n",
        "print('Total count of bioflu images:', len(bioflu_images))\n",
        "print('Total count of biogesic images:', len(biogesic_images))\n",
        "print('Total count of neozep images:',len(neozep_images))"
      ],
      "metadata": {
        "colab": {
          "base_uri": "https://localhost:8080/"
        },
        "id": "qQBQBW7n8Q4J",
        "outputId": "526a2974-9339-494f-c55b-b483724797da"
      },
      "execution_count": 10,
      "outputs": [
        {
          "output_type": "stream",
          "name": "stdout",
          "text": [
            "Total count of bioflu images: 84\n",
            "Total count of biogesic images: 95\n",
            "Total count of neozep images: 77\n"
          ]
        }
      ]
    },
    {
      "cell_type": "code",
      "source": [
        "bioflu_authentic_images = glob.glob(images_dir + '/bioflu/authentic/*.png')\n",
        "bioflu_counterfeit_images = glob.glob(images_dir + '/bioflu/counterfeit/*.png')\n",
        "biogesic_authentic_images = glob.glob(images_dir + '/biogesic/authentic/*.png')\n",
        "biogesic_counterfeit_images = glob.glob(images_dir + '/biogesic/counterfeit/*.png')\n",
        "neozep_authentic_images = glob.glob(images_dir + '/neozep/authentic/*.png')\n",
        "neozep_counterfeit_images = glob.glob(images_dir + '/neozep/counterfeit/*.png')"
      ],
      "metadata": {
        "id": "rbyXx_5a8inO"
      },
      "execution_count": 19,
      "outputs": []
    },
    {
      "cell_type": "code",
      "source": [
        "\n",
        "output = \"/content/drive/MyDrive/Colab Notebooks/Dataset/PlantSeedlingClassification\" \n",
        "\n",
        "splitfolders.ratio(input_folder, output=output, seed=42, ratio=(0.8,0.2))"
      ],
      "metadata": {
        "id": "wXNyvFIA_5EP"
      },
      "execution_count": null,
      "outputs": []
    }
  ]
}